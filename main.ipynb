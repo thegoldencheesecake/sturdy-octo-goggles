{
  "nbformat": 4,
  "nbformat_minor": 0,
  "metadata": {
    "colab": {
      "name": "School Project",
      "provenance": [],
      "collapsed_sections": []
    },
    "kernelspec": {
      "name": "python3",
      "display_name": "Python 3"
    },
    "language_info": {
      "name": "python"
    }
  },
  "cells": [
    {
      "cell_type": "markdown",
      "source": [
        "# Installing Required Packages"
      ],
      "metadata": {
        "id": "rPyb6peDHqNT"
      }
    },
    {
      "cell_type": "code",
      "metadata": {
        "id": "8s7v5wS6CvGt",
        "colab": {
          "base_uri": "https://localhost:8080/"
        },
        "outputId": "a6170922-25f7-4cf9-a08d-21ce13fd43b2"
      },
      "source": [
        "!pip install chatterbot chatterbot-corpus colorama art "
      ],
      "execution_count": 5,
      "outputs": [
        {
          "output_type": "stream",
          "name": "stdout",
          "text": [
            "Requirement already satisfied: chatterbot in /usr/local/lib/python3.7/dist-packages (1.0.8)\n",
            "Requirement already satisfied: chatterbot-corpus in /usr/local/lib/python3.7/dist-packages (1.2.0)\n",
            "Requirement already satisfied: colorama in /usr/local/lib/python3.7/dist-packages (0.4.4)\n",
            "Requirement already satisfied: art in /usr/local/lib/python3.7/dist-packages (5.4)\n",
            "Requirement already satisfied: pytz in /usr/local/lib/python3.7/dist-packages (from chatterbot) (2018.9)\n",
            "Requirement already satisfied: mathparse<0.2,>=0.1 in /usr/local/lib/python3.7/dist-packages (from chatterbot) (0.1.2)\n",
            "Requirement already satisfied: python-dateutil<2.9,>=2.8 in /usr/local/lib/python3.7/dist-packages (from chatterbot) (2.8.2)\n",
            "Requirement already satisfied: sqlalchemy<1.4,>=1.3 in /usr/local/lib/python3.7/dist-packages (from chatterbot) (1.3.24)\n",
            "Requirement already satisfied: six>=1.5 in /usr/local/lib/python3.7/dist-packages (from python-dateutil<2.9,>=2.8->chatterbot) (1.15.0)\n",
            "Requirement already satisfied: PyYAML<4.0,>=3.12 in /usr/local/lib/python3.7/dist-packages (from chatterbot-corpus) (3.13)\n"
          ]
        }
      ]
    },
    {
      "cell_type": "markdown",
      "source": [
        "# Initializing the Chatbot using the chatterbot library"
      ],
      "metadata": {
        "id": "ZU7L0h2nH0KY"
      }
    },
    {
      "cell_type": "code",
      "metadata": {
        "id": "1u2ecWQzYS8U"
      },
      "source": [
        "from chatterbot import ChatBot\n",
        "\n",
        "name = 'bot'\n",
        "bot = ChatBot(\n",
        "    name,\n",
        "    # Filters are an efficient way to create queries that can be passed to ChatterBot’s storage adapters. Filters\n",
        "    # will reduce the number of statements that a chatbot has to process when it is selecting a response.\n",
        "    filters=[\n",
        "        \"filters.get_recent_repeated_responses\"\n",
        "    ],\n",
        "    # Allows the chatbot to utilize this storage adapter this allows ChatterBot to connect to different storage\n",
        "    # technologies\n",
        "    storage_adapter=\"chatterbot.storage.SQLStorageAdapter\",\n",
        "    # Allows the chatbot to utilize some logic adapters which determine the logic for how ChatterBot selects a\n",
        "    # response to a given input statement\n",
        "    logic_adapter=[\n",
        "        \"chatterbot.logic.MathematicalEvaluation\",\n",
        "        \"chatterbot.logic.TimeLogicAdapter\",\n",
        "        \"chatterbot.logic.BestMatch\",\n",
        "        {\n",
        "            # Adds a few parameters for the BestMatch logic adapter\n",
        "            \"import-path\": \"chatterbot.logic.BestMatch\",\n",
        "            # Sets the default response as this\n",
        "            \"default_response\": \"I am sorry, I don't understand you.\",\n",
        "            # Sets the maximum similarity threshold to 0.90 to print to the screen\n",
        "            \"maximum_similarity_threshold\": 0.90,\n",
        "        },\n",
        "    ],\n",
        "    database_uri=\"sqlite:///database.sqlite3\",\n",
        ")\n"
      ],
      "execution_count": 2,
      "outputs": []
    },
    {
      "cell_type": "markdown",
      "source": [
        "# Making the trainers and training the bot using ready made data"
      ],
      "metadata": {
        "id": "OqkQ99hHH8bj"
      }
    },
    {
      "cell_type": "code",
      "source": [
        "from chatterbot.trainers import ListTrainer, ChatterBotCorpusTrainer, UbuntuCorpusTrainer\n",
        "import re\n",
        "\n",
        "trainer = ListTrainer(bot)\n",
        "trainerCorpus = ChatterBotCorpusTrainer(bot)\n",
        "trainerUbuntuCorpus = UbuntuCorpusTrainer(bot)\n",
        "\n",
        "#f = open(\"conversations.txt\", \"r\")\n",
        "#training_data = []\n",
        "\n",
        "#for line in f:\n",
        "    #m = re.search('(Q:|A:)?(.+)', line)\n",
        "    #if m:\n",
        "        #training_data.append(m.groups()[1])\n",
        "\n",
        "#trainer.train(training_data)\n",
        "\n",
        "trainerCorpus.train(\"chatterbot.corpus.english\")"
      ],
      "metadata": {
        "id": "QhkhJzoVbWwS",
        "colab": {
          "base_uri": "https://localhost:8080/"
        },
        "outputId": "76fb994d-82aa-42b9-e9c5-08bc87882752"
      },
      "execution_count": 3,
      "outputs": [
        {
          "output_type": "stream",
          "name": "stdout",
          "text": [
            "Training ai.yml: [####################] 100%\n",
            "Training botprofile.yml: [####################] 100%\n",
            "Training computers.yml: [####################] 100%\n",
            "Training conversations.yml: [####################] 100%\n",
            "Training emotion.yml: [####################] 100%\n",
            "Training food.yml: [####################] 100%\n",
            "Training gossip.yml: [####################] 100%\n",
            "Training greetings.yml: [####################] 100%\n",
            "Training health.yml: [####################] 100%\n",
            "Training history.yml: [####################] 100%\n",
            "Training humor.yml: [####################] 100%\n",
            "Training literature.yml: [####################] 100%\n",
            "Training money.yml: [####################] 100%\n",
            "Training movies.yml: [####################] 100%\n",
            "Training politics.yml: [####################] 100%\n",
            "Training psychology.yml: [####################] 100%\n",
            "Training science.yml: [####################] 100%\n",
            "Training sports.yml: [####################] 100%\n",
            "Training trivia.yml: [####################] 100%\n"
          ]
        }
      ]
    },
    {
      "cell_type": "markdown",
      "source": [
        "# The Main Program\n"
      ],
      "metadata": {
        "id": "sQzHOkWLICSh"
      }
    },
    {
      "cell_type": "code",
      "source": [
        "import os\n",
        "import time\n",
        "\n",
        "import art\n",
        "from colorama import Fore, Style, init\n",
        "\n",
        "# Initializes colorama\n",
        "init()\n",
        "\n",
        "# Prints the ascii art at the start of the program\n",
        "print(art.text2art(\"The ChatBot!\", font=\"starwars\"))\n",
        "\n",
        "# Asks the user for their name and stores in the uname variable\n",
        "uname = input(\"What is your name? \")\n",
        "# Asks the user for the name of their bot and stores it in the bname variable\n",
        "bname = input(\"What would you like to name the bot? \")\n",
        "print(\"\")\n",
        "\n",
        "# Starts the main loop\n",
        "while True:\n",
        "    # Checks whether the user's terminal supports color formatting\n",
        "    if os.system(\"color\") == 1:\n",
        "        query = input(f\"{Fore.LIGHTBLUE_EX}{uname}>{Style.RESET_ALL} \").lower()\n",
        "    # If it doesn't then it just prints without the color formatting\n",
        "    else:\n",
        "        query = input(f\"{uname}> \").lower()\n",
        "\n",
        "    # Checks whether the user query is exit or quit on which it exits the program\n",
        "    if query.lower() == \"exit\" or query.lower() == \"quit\":\n",
        "        print(\"Exiting...\\n\")\n",
        "        break\n",
        "    # Checks whether the query is help on which it shows the available commands and explains their role\n",
        "    elif query.lower() == \"help\":\n",
        "        with open(\"commands.txt\", \"r\") as f:\n",
        "            fcontents = f.read()\n",
        "            print(fcontents)\n",
        "            f.close()\n",
        "    elif query.lower() == \"time\":\n",
        "        print(time.ctime(time.time()))\n",
        "\n",
        "    # Calls the get_response function from the bot made earlier and gets the response to the query\n",
        "    answer = bot.get_response(query)\n",
        "    # Checks whether the user's terminal supports color formatting\n",
        "    if os.system(\"color\") == 1:\n",
        "        print(f\"{Fore.LIGHTYELLOW_EX}{bname}>{Style.RESET_ALL}\", answer)\n",
        "    # If it doesn't then it just prints without the color formatting\n",
        "    else:\n",
        "        print(f\"{bname}>\", answer)\n"
      ],
      "metadata": {
        "id": "O-DCElRgcb6N"
      },
      "execution_count": null,
      "outputs": []
    }
  ]
}